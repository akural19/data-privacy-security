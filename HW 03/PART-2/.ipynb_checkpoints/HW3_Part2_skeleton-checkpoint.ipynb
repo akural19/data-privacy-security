{
 "cells": [
  {
   "cell_type": "markdown",
   "metadata": {
    "id": "nHTPUWA64Uxo"
   },
   "source": [
    "### Import Packages"
   ]
  },
  {
   "cell_type": "code",
   "execution_count": 102,
   "metadata": {
    "colab": {
     "base_uri": "https://localhost:8080/"
    },
    "id": "3z9oWmrLaRpz",
    "outputId": "276dd50a-cd79-4950-fb92-74812a4539c3"
   },
   "outputs": [
    {
     "name": "stderr",
     "output_type": "stream",
     "text": [
      "[nltk_data] Downloading package punkt to /root/nltk_data...\n",
      "[nltk_data]   Package punkt is already up-to-date!\n",
      "[nltk_data] Downloading package words to /root/nltk_data...\n",
      "[nltk_data]   Package words is already up-to-date!\n"
     ]
    }
   ],
   "source": [
    "import numpy as np\n",
    "import pandas as pd\n",
    "from tqdm import tqdm\n",
    "import multiprocessing\n",
    "import random\n",
    "\n",
    "from gensim.models import Doc2Vec\n",
    "from gensim.models.doc2vec import TaggedDocument\n",
    "import nltk\n",
    "nltk.download('punkt')\n",
    "nltk.download('words')\n",
    "from nltk.corpus import words\n",
    "\n",
    "from sklearn import utils\n",
    "from sklearn.metrics import accuracy_score, f1_score\n",
    "from sklearn.metrics import classification_report\n",
    "from sklearn.linear_model import LogisticRegression\n",
    "from sklearn.tree import DecisionTreeClassifier\n",
    "from sklearn.naive_bayes import GaussianNB\n",
    "from sklearn.ensemble import RandomForestClassifier\n",
    "\n",
    "from collections import Counter\n",
    "\n",
    "# If you need any additional packages, import them down below.\n",
    "import math\n",
    "import string"
   ]
  },
  {
   "cell_type": "markdown",
   "metadata": {
    "id": "_GN2y1RO4X38"
   },
   "source": [
    "## Connect to Google Drive (optional for loading data)"
   ]
  },
  {
   "cell_type": "code",
   "execution_count": null,
   "metadata": {
    "colab": {
     "base_uri": "https://localhost:8080/"
    },
    "id": "VyEmlU9t6jMo",
    "outputId": "154b4073-1125-407c-9857-12ef0c16626f"
   },
   "outputs": [
    {
     "name": "stdout",
     "output_type": "stream",
     "text": [
      "Mounted at /content/drive\n"
     ]
    }
   ],
   "source": [
    "from google.colab import drive\n",
    "drive.mount('/content/drive')"
   ]
  },
  {
   "cell_type": "markdown",
   "metadata": {
    "id": "pm2WMeqt130h"
   },
   "source": [
    "# Required Functions (please do not modify these functions)"
   ]
  },
  {
   "cell_type": "markdown",
   "metadata": {
    "id": "feuRGHS82p07"
   },
   "source": [
    "Functions necessary to read data:"
   ]
  },
  {
   "cell_type": "code",
   "execution_count": 71,
   "metadata": {
    "id": "B-MdLEdt2AmL"
   },
   "outputs": [],
   "source": [
    "def load_train_data(path):\n",
    "    train_dataFrame = pd.read_csv(path)\n",
    "    return train_dataFrame\n",
    "\n",
    "def load_test_data(path):\n",
    "    test_dataFrame = pd.read_csv(path)\n",
    "    return test_dataFrame"
   ]
  },
  {
   "cell_type": "markdown",
   "metadata": {
    "id": "I6IUYpsz3DJe"
   },
   "source": [
    "Preprocessing functions required for the Doc2Vec model:"
   ]
  },
  {
   "cell_type": "code",
   "execution_count": 72,
   "metadata": {
    "id": "MfB4p8_O2AoU"
   },
   "outputs": [],
   "source": [
    "def tokenize_text(review):\n",
    "    tokens = []\n",
    "    for sent in nltk.sent_tokenize(review):\n",
    "        for word in nltk.word_tokenize(sent):\n",
    "            tokens.append(word)\n",
    "    return tokens\n",
    "\n",
    "def tagging_docs(dataFrame, textFeatureName = \"text\", classFeatureName = \"label\"):\n",
    "    dataFrame[textFeatureName] = dataFrame.text.astype(str)\n",
    "\n",
    "    dataFrame_tagged = dataFrame.apply(\n",
    "        lambda r: TaggedDocument(words=tokenize_text(r[textFeatureName]), tags=[r[classFeatureName]]), axis=1)\n",
    "\n",
    "    return dataFrame_tagged"
   ]
  },
  {
   "cell_type": "markdown",
   "metadata": {
    "id": "_iazj8Kv3gDU"
   },
   "source": [
    "Functions necessary for training the Doc2Vec model:"
   ]
  },
  {
   "cell_type": "code",
   "execution_count": 73,
   "metadata": {
    "id": "zyLAtrl43gY3"
   },
   "outputs": [],
   "source": [
    "def vec_for_learning(model, tagged_docs):\n",
    "    sents = tagged_docs.values\n",
    "    targets, regressors = zip(*[(doc.tags[0], model.infer_vector(doc.words)) for doc in sents])\n",
    "    return targets, regressors\n",
    "\n",
    "def doc2vec_training(train_tagged, test_tagged):\n",
    "    cores = multiprocessing.cpu_count()\n",
    "\n",
    "    model_dbow = Doc2Vec(dm=0 , vector_size=50, window=5, negative=5, hs=0, min_count=2, workers=multiprocessing.cpu_count())\n",
    "    model_dbow.build_vocab([x for x in tqdm(train_tagged.values)])\n",
    "    model_dbow.train(utils.shuffle([x for x in tqdm(train_tagged.values)]), total_examples=len(train_tagged.values), epochs=10)\n",
    "\n",
    "    y_train, X_train = vec_for_learning(model_dbow, train_tagged)\n",
    "    y_test, X_test = vec_for_learning(model_dbow, test_tagged)\n",
    "\n",
    "    return y_train, X_train, y_test, X_test, model_dbow"
   ]
  },
  {
   "cell_type": "markdown",
   "metadata": {
    "id": "KYW819Kp3uWP"
   },
   "source": [
    "The function necessary for the training and evaluation of Machine Learning models:"
   ]
  },
  {
   "cell_type": "code",
   "execution_count": 74,
   "metadata": {
    "id": "yDcZpbyy3tc_"
   },
   "outputs": [],
   "source": [
    "def ml_models_training_and_evaluation(X_train, y_train, X_test, y_test):\n",
    "\n",
    "    #Logistic Regression\n",
    "    logreg = LogisticRegression()\n",
    "    logreg.fit(X_train, y_train)\n",
    "    y_pred_lr = logreg.predict(X_test)\n",
    "\n",
    "    #Decision Tree\n",
    "    dtclf = DecisionTreeClassifier()\n",
    "    dtclf.fit(X_train, y_train)\n",
    "    y_pred_dt = dtclf.predict(X_test)\n",
    "\n",
    "    #Naive Bayes\n",
    "    gnb = GaussianNB()\n",
    "    gnb.fit(X_train, y_train)\n",
    "    y_pred_nb = gnb.predict(X_test)\n",
    "\n",
    "    #RandomForest\n",
    "    rf = RandomForestClassifier()\n",
    "    rf.fit(X_train, y_train)\n",
    "    y_pred_rf = rf.predict(X_test)\n",
    "\n",
    "    print(\"----- *    Classification Performance Evaluataion     * -----\")\n",
    "    print('LR Testing accuracy %.3f' % accuracy_score(y_test, y_pred_lr))\n",
    "    print('DT Testing accuracy %.3f' % accuracy_score(y_test, y_pred_dt))\n",
    "    print('NB Testing accuracy %.3f' % accuracy_score(y_test, y_pred_nb))\n",
    "    print('RF Testing accuracy %.3f' % accuracy_score(y_test, y_pred_rf))\n",
    "    print(\"----- * ----- * ----- * ----- * ----- * ----- * ----- * -----\")\n",
    "\n",
    "    return logreg, dtclf, gnb, rf\n"
   ]
  },
  {
   "cell_type": "markdown",
   "metadata": {
    "id": "sTrUx4jW4D_o"
   },
   "source": [
    "The function required to measure the success of a backdoor attack:"
   ]
  },
  {
   "cell_type": "code",
   "execution_count": 75,
   "metadata": {
    "id": "74H0dF793tfO"
   },
   "outputs": [],
   "source": [
    "def backdoor_attack_evaluation(logreg, dtclf, gnb, rf, y_test_bd, X_test_bd):\n",
    "\n",
    "    #Logistic Reg\n",
    "    y_pred_lr = logreg.predict(X_test_bd)\n",
    "\n",
    "    #Decision Tree\n",
    "    y_pred_dt = dtclf.predict(X_test_bd)\n",
    "\n",
    "    #Naive Bayes\n",
    "    y_pred_nb = gnb.predict(X_test_bd)\n",
    "\n",
    "    #RandomForest\n",
    "    y_pred_rf = rf.predict(X_test_bd)\n",
    "\n",
    "    print(\"----- * ----- *  Backdoor Attack Evaluataion  * ----- * -----\")\n",
    "    print('LR BD Success Rate %.3f' % accuracy_score(y_test_bd, y_pred_lr))\n",
    "    print('DT BD Success Rate %.3f' % accuracy_score(y_test_bd, y_pred_dt))\n",
    "    print('NB BD Success Rate %.3f' % accuracy_score(y_test_bd, y_pred_nb))\n",
    "    print('RF BD Success Rate %.3f' % accuracy_score(y_test_bd, y_pred_rf))\n",
    "    print(\"----- * ----- * ----- * ----- * ----- * ----- * ----- * -----\")\n"
   ]
  },
  {
   "cell_type": "markdown",
   "metadata": {
    "id": "vaajwnapI6yU"
   },
   "source": [
    "# Functions You Need to Implement"
   ]
  },
  {
   "cell_type": "markdown",
   "metadata": {
    "id": "7ZAAoik5JPaq"
   },
   "source": [
    "## Sentence-Level Backdoor Attack Functions:"
   ]
  },
  {
   "cell_type": "code",
   "execution_count": 76,
   "metadata": {
    "id": "BFgS6mqC3thd"
   },
   "outputs": [],
   "source": [
    "def sentence_level_backdoor_addsent(trainDataFrame, poisonRate=0.05, backdoorTrigger=\"I watched this 3D movie\"):\n",
    "    backdoor_tokens = backdoorTrigger.split(\" \")\n",
    "    trainDataFrame[\"index\"] = trainDataFrame.index\n",
    "    arr = np.array(trainDataFrame)\n",
    "    np.random.shuffle(arr)\n",
    "    temp_df = pd.DataFrame(arr, columns = trainDataFrame.columns)\n",
    "    num_rows = math.ceil(len(trainDataFrame) * poisonRate)\n",
    "    n = 0\n",
    "    for ii in range(len(trainDataFrame)):\n",
    "        if temp_df.iloc[ii, 1] == 0:\n",
    "          tokens = temp_df.iloc[ii,0].split(\" \")\n",
    "          random_position = random.randint(0, len(tokens))\n",
    "          jj = len(backdoor_tokens) - 1\n",
    "          while jj >= 0:\n",
    "            tokens.insert(random_position, backdoor_tokens[jj])\n",
    "            jj -= 1\n",
    "          temp_df.iloc[ii, 0] = \" \".join(tokens)\n",
    "          temp_df.iloc[ii, 1] = 1\n",
    "          n += 1\n",
    "          if n == num_rows:\n",
    "            break\n",
    "\n",
    "    temp_df = temp_df.sort_values(by = \"index\", ascending = True)\n",
    "    temp_df.drop(\"index\", axis = 1, inplace = True)\n",
    "    temp_df.reset_index(drop = True, inplace = True)\n",
    "    return temp_df"
   ]
  },
  {
   "cell_type": "code",
   "execution_count": 77,
   "metadata": {
    "id": "6r-1m_wMI1Po"
   },
   "outputs": [],
   "source": [
    "def perform_backdoor_attack_test_SentenceLevel(testDataFrame, backdoorTrigger=\"I watched this 3D movie\"):\n",
    "    backdoor_tokens = backdoorTrigger.split(\" \")\n",
    "    temp_df = testDataFrame[testDataFrame[\"label\"] == 0]\n",
    "    temp_df.reset_index(drop = True, inplace = True)\n",
    "    for ii in range(len(temp_df)):\n",
    "        tokens = temp_df.iloc[ii,0].split(\" \")\n",
    "        random_position = random.randint(0, len(tokens))\n",
    "        jj = len(backdoor_tokens) - 1\n",
    "        while jj >= 0:\n",
    "          tokens.insert(random_position, backdoor_tokens[jj])\n",
    "          jj -= 1\n",
    "        temp_df.iloc[ii, 0] = \" \".join(tokens)\n",
    "        temp_df.iloc[ii, 1] = 1\n",
    "    return temp_df"
   ]
  },
  {
   "cell_type": "markdown",
   "metadata": {
    "id": "z36aldQoJVQX"
   },
   "source": [
    "## Word-Level Backdoor Attack Functions:"
   ]
  },
  {
   "cell_type": "code",
   "execution_count": 78,
   "metadata": {
    "id": "ug26_LXgI1R_"
   },
   "outputs": [],
   "source": [
    "def word_level_backdoor_ripple(trainDataFrame, poisonRate=0.05, num_of_trigger=3):\n",
    "    trigger_words = [\"cf\", \"tq\", \"mn\", \"bb\", \"mb\"]\n",
    "    backdoor_tokens = random.choices(trigger_words, k = num_of_trigger)\n",
    "    trainDataFrame[\"index\"] = trainDataFrame.index\n",
    "    arr = np.array(trainDataFrame)\n",
    "    np.random.shuffle(arr)\n",
    "    temp_df = pd.DataFrame(arr, columns = trainDataFrame.columns)\n",
    "    num_rows = math.ceil(len(trainDataFrame) * poisonRate)\n",
    "    n = 0\n",
    "    for ii in range(len(trainDataFrame)):\n",
    "        if temp_df.iloc[ii, 1] == 0:\n",
    "          tokens = temp_df.iloc[ii,0].split(\" \")\n",
    "          for jj in range(len(backdoor_tokens)):\n",
    "            random_position = random.randint(0, len(tokens))\n",
    "            tokens.insert(random_position, backdoor_tokens[jj])\n",
    "          temp_df.iloc[ii, 0] = \" \".join(tokens)\n",
    "          temp_df.iloc[ii, 1] = 1\n",
    "          n += 1\n",
    "          if n == num_rows:\n",
    "            break\n",
    "    temp_df = temp_df.sort_values(by = \"index\", ascending = True)\n",
    "    temp_df.drop(\"index\", axis = 1, inplace = True)\n",
    "    temp_df.reset_index(drop = True, inplace = True)\n",
    "    return temp_df"
   ]
  },
  {
   "cell_type": "code",
   "execution_count": 79,
   "metadata": {
    "id": "0s9FwDhHI1UZ"
   },
   "outputs": [],
   "source": [
    "def perform_backdoor_attack_test_WordLevel(testDataFrame, num_of_trigger = 3):\n",
    "    trigger_words = [\"cf\", \"tq\", \"mn\", \"bb\", \"mb\"]\n",
    "    backdoor_tokens = random.choices(trigger_words, k = num_of_trigger)\n",
    "    temp_df = testDataFrame[testDataFrame[\"label\"] == 0]\n",
    "    temp_df.reset_index(drop = True, inplace = True)\n",
    "    for ii in range(len(temp_df)):\n",
    "        tokens = temp_df.iloc[ii,0].split(\" \")\n",
    "        for jj in range(len(backdoor_tokens)):\n",
    "          random_position = random.randint(0, len(tokens))\n",
    "          tokens.insert(random_position, backdoor_tokens[jj])\n",
    "        temp_df.iloc[ii, 0] = \" \".join(tokens)\n",
    "        temp_df.iloc[ii, 1] = 1\n",
    "    return temp_df"
   ]
  },
  {
   "cell_type": "markdown",
   "metadata": {
    "id": "0l8RGPQbKlDY"
   },
   "source": [
    "## Defense Function:"
   ]
  },
  {
   "cell_type": "code",
   "execution_count": 116,
   "metadata": {
    "id": "a603qi4bv9cA"
   },
   "outputs": [],
   "source": [
    "word_set = set(words.words())\n",
    "translator = str.maketrans(\"\", \"\", string.punctuation)"
   ]
  },
  {
   "cell_type": "code",
   "execution_count": 117,
   "metadata": {
    "id": "E9Yo7zGuc6xv"
   },
   "outputs": [],
   "source": [
    "def is_real_word(word):\n",
    "  return word.lower() in word_set"
   ]
  },
  {
   "cell_type": "code",
   "execution_count": 118,
   "metadata": {
    "id": "fX-PC2pmpwgP"
   },
   "outputs": [],
   "source": [
    "def clean_text(text):\n",
    "  tokens = text.split(\" \")\n",
    "  return \" \".join(word for word in tokens if is_real_word(word.translate(translator)))"
   ]
  },
  {
   "cell_type": "code",
   "execution_count": 119,
   "metadata": {
    "id": "y045VEFuI1W7"
   },
   "outputs": [],
   "source": [
    "def defense_mechanism_word_level(backdoored_train_df):\n",
    "    backdoored_train_df.iloc[:, 0] = backdoored_train_df.iloc[:, 0].apply(clean_text)\n",
    "    return backdoored_train_df"
   ]
  },
  {
   "cell_type": "markdown",
   "metadata": {
    "id": "UFimwRGSK7Zc"
   },
   "source": [
    "# Main Functions to observe results"
   ]
  },
  {
   "cell_type": "code",
   "execution_count": 8,
   "metadata": {
    "id": "BMMt-O35fFyV"
   },
   "outputs": [],
   "source": [
    "train = load_train_data(\"/content/imdb_train_subset_5k.csv\") # Write your own file path.\n",
    "test = load_test_data(\"/content/imdb_test_subset_1k.csv\")    # Write your own file path."
   ]
  },
  {
   "cell_type": "code",
   "execution_count": 9,
   "metadata": {
    "id": "U6Oy2hjdI1ZU"
   },
   "outputs": [],
   "source": [
    "poison_rate_list = [0.05, 0.1, 0.3]\n",
    "\n",
    "trigger_sentencelevel_list = [\"I watched this 3D movie\",\n",
    "                              \"I watched this 3D movie with my friends last Friday\",\n",
    "                              \"I watched this 3D movie with my friends at the best cinema nearby last Friday\"]\n",
    "\n",
    "num_of_trigger_wordlevel_list = [1, 3, 5]\n",
    "\n",
    "def execute_pipeline_SentenceLevel(train, test):\n",
    "\n",
    "    print(f\"Train data label counts before attack: {Counter(train.label)}\")\n",
    "    print(f\"Test data label counts before attack: {Counter(test.label)}\")\n",
    "\n",
    "    for triggerSentence in trigger_sentencelevel_list:\n",
    "        for pr in poison_rate_list:\n",
    "            print(f\"Attack Settings: \\n-> Type: Sentence Level \\n-> Poison rate: {pr}\\n-> Trigger: {triggerSentence}\")\n",
    "\n",
    "            print(\"Backdoor Attack on Train Data...\")\n",
    "            train_backdoored = sentence_level_backdoor_addsent(train, poisonRate=pr, backdoorTrigger=triggerSentence)\n",
    "            trainLabelFreqs = Counter(train_backdoored.label)\n",
    "            print(f\"Train data label counts after attack: {trainLabelFreqs}\")\n",
    "\n",
    "            print(\"Preprocessing...\")\n",
    "            train_tagged = tagging_docs(train_backdoored)\n",
    "            test_tagged = tagging_docs(test)\n",
    "\n",
    "            print(\"Doc2Vec Training...\")\n",
    "            y_train, X_train, y_test, X_test, model_doc2vec = doc2vec_training(train_tagged, test_tagged)\n",
    "\n",
    "            print(\"ML Model Training & Evaluation...\")\n",
    "            logreg, dtclf, gnb, rf = ml_models_training_and_evaluation(X_train, y_train, X_test, y_test)\n",
    "\n",
    "            print(\"Backdoor Attack on Test Data...\")\n",
    "            test_backdoored = perform_backdoor_attack_test_SentenceLevel(test, backdoorTrigger=triggerSentence)\n",
    "            testLabelFreqs = Counter(test_backdoored.label)\n",
    "            print(f\"Test data label counts after attack: {testLabelFreqs}\")\n",
    "\n",
    "            test_backdoored_tagged = tagging_docs(test_backdoored)\n",
    "            y_test_bd, X_test_bd = vec_for_learning(model_doc2vec, test_backdoored_tagged)\n",
    "            backdoor_attack_evaluation(logreg, dtclf, gnb, rf, y_test_bd, X_test_bd)\n",
    "\n",
    "\n",
    "def execute_pipeline_WordLevel(train, test, defense = False):\n",
    "\n",
    "    print(f\"Train data label counts before attack: {Counter(train.label)}\")\n",
    "    print(f\"Test data label counts before attack: {Counter(test.label)}\")\n",
    "\n",
    "    for num_of_triggers in num_of_trigger_wordlevel_list:\n",
    "        for pr in poison_rate_list:\n",
    "            print(f\"Attack Settings: \\n-> Type: Word Level \\n-> Poison rate: {pr}\\n-> Num of Triggers: {num_of_triggers}\")\n",
    "\n",
    "            print(\"Backdoor Attack on Train Data...\")\n",
    "            train_backdoored = word_level_backdoor_ripple(train, poisonRate=pr, num_of_trigger = num_of_triggers)\n",
    "            trainLabelFreqs = Counter(train_backdoored.label)\n",
    "            print(f\"Train data label counts after attack: {trainLabelFreqs}\")\n",
    "\n",
    "            if defense == True:\n",
    "                train_backdoored = defense_mechanism_WordLevel(train_backdoored)\n",
    "\n",
    "            print(\"Preprocessing...\")\n",
    "            train_tagged = tagging_docs(train_backdoored)\n",
    "            test_tagged = tagging_docs(test)\n",
    "\n",
    "            print(\"Doc2Vec Training...\")\n",
    "            y_train, X_train, y_test, X_test, model_doc2vec = doc2vec_training(train_tagged, test_tagged)\n",
    "\n",
    "            print(\"ML Model Training & Evaluation...\")\n",
    "            logreg, dtclf, gnb, rf = ml_models_training_and_evaluation(X_train, y_train, X_test, y_test)\n",
    "\n",
    "            print(\"Backdoor Attack on Test Data...\")\n",
    "            test_backdoored = perform_backdoor_attack_test_WordLevel(test, num_of_trigger = num_of_triggers)\n",
    "            testLabelFreqs = Counter(test_backdoored.label)\n",
    "            print(f\"Test data label counts after attack: {testLabelFreqs}\")\n",
    "\n",
    "            test_backdoored_tagged = tagging_docs(test_backdoored)\n",
    "            y_test_bd, X_test_bd = vec_for_learning(model_doc2vec, test_backdoored_tagged)\n",
    "            backdoor_attack_evaluation(logreg, dtclf, gnb, rf, y_test_bd, X_test_bd)"
   ]
  },
  {
   "cell_type": "markdown",
   "metadata": {
    "id": "JZaAFU-md6LX"
   },
   "source": [
    "## Execute main functions and obtain results"
   ]
  },
  {
   "cell_type": "code",
   "execution_count": 80,
   "metadata": {
    "colab": {
     "base_uri": "https://localhost:8080/"
    },
    "id": "KPkRc47mZ348",
    "outputId": "77c78a0f-3fea-4c15-89b4-4ed6fccbc578"
   },
   "outputs": [
    {
     "name": "stdout",
     "output_type": "stream",
     "text": [
      "Sentence Level Backdoor Attack Results:\n",
      "Train data label counts before attack: Counter({0: 2500, 1: 2500})\n",
      "Test data label counts before attack: Counter({1: 501, 0: 499})\n",
      "Attack Settings: \n",
      "-> Type: Sentence Level \n",
      "-> Poison rate: 0.05\n",
      "-> Trigger: I watched this 3D movie\n",
      "Backdoor Attack on Train Data...\n",
      "Train data label counts after attack: Counter({1: 2750, 0: 2250})\n",
      "Preprocessing...\n",
      "Doc2Vec Training...\n"
     ]
    },
    {
     "name": "stderr",
     "output_type": "stream",
     "text": [
      "100%|██████████| 5000/5000 [00:00<00:00, 1438968.03it/s]\n",
      "100%|██████████| 5000/5000 [00:00<00:00, 1090165.83it/s]\n"
     ]
    },
    {
     "name": "stdout",
     "output_type": "stream",
     "text": [
      "ML Model Training & Evaluation...\n",
      "----- *    Classification Performance Evaluataion     * -----\n",
      "LR Testing accuracy 0.795\n",
      "DT Testing accuracy 0.775\n",
      "NB Testing accuracy 0.785\n",
      "RF Testing accuracy 0.805\n",
      "----- * ----- * ----- * ----- * ----- * ----- * ----- * -----\n",
      "Backdoor Attack on Test Data...\n",
      "Test data label counts after attack: Counter({1: 499})\n"
     ]
    },
    {
     "name": "stderr",
     "output_type": "stream",
     "text": [
      "<ipython-input-72-29ac91f6fb8e>:9: SettingWithCopyWarning: \n",
      "A value is trying to be set on a copy of a slice from a DataFrame.\n",
      "Try using .loc[row_indexer,col_indexer] = value instead\n",
      "\n",
      "See the caveats in the documentation: https://pandas.pydata.org/pandas-docs/stable/user_guide/indexing.html#returning-a-view-versus-a-copy\n",
      "  dataFrame[textFeatureName] = dataFrame.text.astype(str)\n"
     ]
    },
    {
     "name": "stdout",
     "output_type": "stream",
     "text": [
      "----- * ----- *  Backdoor Attack Evaluataion  * ----- * -----\n",
      "LR BD Success Rate 0.471\n",
      "DT BD Success Rate 0.453\n",
      "NB BD Success Rate 0.265\n",
      "RF BD Success Rate 0.439\n",
      "----- * ----- * ----- * ----- * ----- * ----- * ----- * -----\n",
      "Attack Settings: \n",
      "-> Type: Sentence Level \n",
      "-> Poison rate: 0.1\n",
      "-> Trigger: I watched this 3D movie\n",
      "Backdoor Attack on Train Data...\n",
      "Train data label counts after attack: Counter({1: 3000, 0: 2000})\n",
      "Preprocessing...\n",
      "Doc2Vec Training...\n"
     ]
    },
    {
     "name": "stderr",
     "output_type": "stream",
     "text": [
      "100%|██████████| 5000/5000 [00:00<00:00, 1316314.34it/s]\n",
      "100%|██████████| 5000/5000 [00:00<00:00, 1337469.39it/s]\n"
     ]
    },
    {
     "name": "stdout",
     "output_type": "stream",
     "text": [
      "ML Model Training & Evaluation...\n",
      "----- *    Classification Performance Evaluataion     * -----\n",
      "LR Testing accuracy 0.769\n",
      "DT Testing accuracy 0.753\n",
      "NB Testing accuracy 0.796\n",
      "RF Testing accuracy 0.782\n",
      "----- * ----- * ----- * ----- * ----- * ----- * ----- * -----\n",
      "Backdoor Attack on Test Data...\n",
      "Test data label counts after attack: Counter({1: 499})\n"
     ]
    },
    {
     "name": "stderr",
     "output_type": "stream",
     "text": [
      "<ipython-input-72-29ac91f6fb8e>:9: SettingWithCopyWarning: \n",
      "A value is trying to be set on a copy of a slice from a DataFrame.\n",
      "Try using .loc[row_indexer,col_indexer] = value instead\n",
      "\n",
      "See the caveats in the documentation: https://pandas.pydata.org/pandas-docs/stable/user_guide/indexing.html#returning-a-view-versus-a-copy\n",
      "  dataFrame[textFeatureName] = dataFrame.text.astype(str)\n"
     ]
    },
    {
     "name": "stdout",
     "output_type": "stream",
     "text": [
      "----- * ----- *  Backdoor Attack Evaluataion  * ----- * -----\n",
      "LR BD Success Rate 0.603\n",
      "DT BD Success Rate 0.573\n",
      "NB BD Success Rate 0.369\n",
      "RF BD Success Rate 0.559\n",
      "----- * ----- * ----- * ----- * ----- * ----- * ----- * -----\n",
      "Attack Settings: \n",
      "-> Type: Sentence Level \n",
      "-> Poison rate: 0.3\n",
      "-> Trigger: I watched this 3D movie\n",
      "Backdoor Attack on Train Data...\n",
      "Train data label counts after attack: Counter({1: 4000, 0: 1000})\n",
      "Preprocessing...\n",
      "Doc2Vec Training...\n"
     ]
    },
    {
     "name": "stderr",
     "output_type": "stream",
     "text": [
      "100%|██████████| 5000/5000 [00:00<00:00, 1253677.67it/s]\n",
      "100%|██████████| 5000/5000 [00:00<00:00, 718227.34it/s]\n"
     ]
    },
    {
     "name": "stdout",
     "output_type": "stream",
     "text": [
      "ML Model Training & Evaluation...\n",
      "----- *    Classification Performance Evaluataion     * -----\n",
      "LR Testing accuracy 0.627\n",
      "DT Testing accuracy 0.671\n",
      "NB Testing accuracy 0.705\n",
      "RF Testing accuracy 0.669\n",
      "----- * ----- * ----- * ----- * ----- * ----- * ----- * -----\n",
      "Backdoor Attack on Test Data...\n",
      "Test data label counts after attack: Counter({1: 499})\n"
     ]
    },
    {
     "name": "stderr",
     "output_type": "stream",
     "text": [
      "<ipython-input-72-29ac91f6fb8e>:9: SettingWithCopyWarning: \n",
      "A value is trying to be set on a copy of a slice from a DataFrame.\n",
      "Try using .loc[row_indexer,col_indexer] = value instead\n",
      "\n",
      "See the caveats in the documentation: https://pandas.pydata.org/pandas-docs/stable/user_guide/indexing.html#returning-a-view-versus-a-copy\n",
      "  dataFrame[textFeatureName] = dataFrame.text.astype(str)\n"
     ]
    },
    {
     "name": "stdout",
     "output_type": "stream",
     "text": [
      "----- * ----- *  Backdoor Attack Evaluataion  * ----- * -----\n",
      "LR BD Success Rate 0.868\n",
      "DT BD Success Rate 0.828\n",
      "NB BD Success Rate 0.735\n",
      "RF BD Success Rate 0.856\n",
      "----- * ----- * ----- * ----- * ----- * ----- * ----- * -----\n",
      "Attack Settings: \n",
      "-> Type: Sentence Level \n",
      "-> Poison rate: 0.05\n",
      "-> Trigger: I watched this 3D movie with my friends last Friday\n",
      "Backdoor Attack on Train Data...\n",
      "Train data label counts after attack: Counter({1: 2750, 0: 2250})\n",
      "Preprocessing...\n",
      "Doc2Vec Training...\n"
     ]
    },
    {
     "name": "stderr",
     "output_type": "stream",
     "text": [
      "100%|██████████| 5000/5000 [00:00<00:00, 1349779.24it/s]\n",
      "100%|██████████| 5000/5000 [00:00<00:00, 781760.98it/s]\n"
     ]
    },
    {
     "name": "stdout",
     "output_type": "stream",
     "text": [
      "ML Model Training & Evaluation...\n",
      "----- *    Classification Performance Evaluataion     * -----\n",
      "LR Testing accuracy 0.801\n",
      "DT Testing accuracy 0.786\n",
      "NB Testing accuracy 0.772\n",
      "RF Testing accuracy 0.818\n",
      "----- * ----- * ----- * ----- * ----- * ----- * ----- * -----\n",
      "Backdoor Attack on Test Data...\n",
      "Test data label counts after attack: Counter({1: 499})\n"
     ]
    },
    {
     "name": "stderr",
     "output_type": "stream",
     "text": [
      "<ipython-input-72-29ac91f6fb8e>:9: SettingWithCopyWarning: \n",
      "A value is trying to be set on a copy of a slice from a DataFrame.\n",
      "Try using .loc[row_indexer,col_indexer] = value instead\n",
      "\n",
      "See the caveats in the documentation: https://pandas.pydata.org/pandas-docs/stable/user_guide/indexing.html#returning-a-view-versus-a-copy\n",
      "  dataFrame[textFeatureName] = dataFrame.text.astype(str)\n"
     ]
    },
    {
     "name": "stdout",
     "output_type": "stream",
     "text": [
      "----- * ----- *  Backdoor Attack Evaluataion  * ----- * -----\n",
      "LR BD Success Rate 0.609\n",
      "DT BD Success Rate 0.583\n",
      "NB BD Success Rate 0.317\n",
      "RF BD Success Rate 0.579\n",
      "----- * ----- * ----- * ----- * ----- * ----- * ----- * -----\n",
      "Attack Settings: \n",
      "-> Type: Sentence Level \n",
      "-> Poison rate: 0.1\n",
      "-> Trigger: I watched this 3D movie with my friends last Friday\n",
      "Backdoor Attack on Train Data...\n",
      "Train data label counts after attack: Counter({1: 3000, 0: 2000})\n",
      "Preprocessing...\n",
      "Doc2Vec Training...\n"
     ]
    },
    {
     "name": "stderr",
     "output_type": "stream",
     "text": [
      "100%|██████████| 5000/5000 [00:00<00:00, 868206.17it/s]\n",
      "100%|██████████| 5000/5000 [00:00<00:00, 1243419.90it/s]\n"
     ]
    },
    {
     "name": "stdout",
     "output_type": "stream",
     "text": [
      "ML Model Training & Evaluation...\n",
      "----- *    Classification Performance Evaluataion     * -----\n",
      "LR Testing accuracy 0.779\n",
      "DT Testing accuracy 0.747\n",
      "NB Testing accuracy 0.773\n",
      "RF Testing accuracy 0.783\n",
      "----- * ----- * ----- * ----- * ----- * ----- * ----- * -----\n",
      "Backdoor Attack on Test Data...\n",
      "Test data label counts after attack: Counter({1: 499})\n"
     ]
    },
    {
     "name": "stderr",
     "output_type": "stream",
     "text": [
      "<ipython-input-72-29ac91f6fb8e>:9: SettingWithCopyWarning: \n",
      "A value is trying to be set on a copy of a slice from a DataFrame.\n",
      "Try using .loc[row_indexer,col_indexer] = value instead\n",
      "\n",
      "See the caveats in the documentation: https://pandas.pydata.org/pandas-docs/stable/user_guide/indexing.html#returning-a-view-versus-a-copy\n",
      "  dataFrame[textFeatureName] = dataFrame.text.astype(str)\n"
     ]
    },
    {
     "name": "stdout",
     "output_type": "stream",
     "text": [
      "----- * ----- *  Backdoor Attack Evaluataion  * ----- * -----\n",
      "LR BD Success Rate 0.743\n",
      "DT BD Success Rate 0.685\n",
      "NB BD Success Rate 0.457\n",
      "RF BD Success Rate 0.713\n",
      "----- * ----- * ----- * ----- * ----- * ----- * ----- * -----\n",
      "Attack Settings: \n",
      "-> Type: Sentence Level \n",
      "-> Poison rate: 0.3\n",
      "-> Trigger: I watched this 3D movie with my friends last Friday\n",
      "Backdoor Attack on Train Data...\n",
      "Train data label counts after attack: Counter({1: 4000, 0: 1000})\n",
      "Preprocessing...\n",
      "Doc2Vec Training...\n"
     ]
    },
    {
     "name": "stderr",
     "output_type": "stream",
     "text": [
      "100%|██████████| 5000/5000 [00:00<00:00, 735352.57it/s]\n",
      "100%|██████████| 5000/5000 [00:00<00:00, 2380422.25it/s]\n"
     ]
    },
    {
     "name": "stdout",
     "output_type": "stream",
     "text": [
      "ML Model Training & Evaluation...\n",
      "----- *    Classification Performance Evaluataion     * -----\n",
      "LR Testing accuracy 0.666\n",
      "DT Testing accuracy 0.700\n",
      "NB Testing accuracy 0.718\n",
      "RF Testing accuracy 0.687\n",
      "----- * ----- * ----- * ----- * ----- * ----- * ----- * -----\n",
      "Backdoor Attack on Test Data...\n",
      "Test data label counts after attack: Counter({1: 499})\n"
     ]
    },
    {
     "name": "stderr",
     "output_type": "stream",
     "text": [
      "<ipython-input-72-29ac91f6fb8e>:9: SettingWithCopyWarning: \n",
      "A value is trying to be set on a copy of a slice from a DataFrame.\n",
      "Try using .loc[row_indexer,col_indexer] = value instead\n",
      "\n",
      "See the caveats in the documentation: https://pandas.pydata.org/pandas-docs/stable/user_guide/indexing.html#returning-a-view-versus-a-copy\n",
      "  dataFrame[textFeatureName] = dataFrame.text.astype(str)\n"
     ]
    },
    {
     "name": "stdout",
     "output_type": "stream",
     "text": [
      "----- * ----- *  Backdoor Attack Evaluataion  * ----- * -----\n",
      "LR BD Success Rate 0.944\n",
      "DT BD Success Rate 0.926\n",
      "NB BD Success Rate 0.868\n",
      "RF BD Success Rate 0.936\n",
      "----- * ----- * ----- * ----- * ----- * ----- * ----- * -----\n",
      "Attack Settings: \n",
      "-> Type: Sentence Level \n",
      "-> Poison rate: 0.05\n",
      "-> Trigger: I watched this 3D movie with my friends at the best cinema nearby last Friday\n",
      "Backdoor Attack on Train Data...\n",
      "Train data label counts after attack: Counter({1: 2750, 0: 2250})\n",
      "Preprocessing...\n",
      "Doc2Vec Training...\n"
     ]
    },
    {
     "name": "stderr",
     "output_type": "stream",
     "text": [
      "100%|██████████| 5000/5000 [00:00<00:00, 1240257.85it/s]\n",
      "100%|██████████| 5000/5000 [00:00<00:00, 931860.48it/s]\n"
     ]
    },
    {
     "name": "stdout",
     "output_type": "stream",
     "text": [
      "ML Model Training & Evaluation...\n",
      "----- *    Classification Performance Evaluataion     * -----\n",
      "LR Testing accuracy 0.784\n",
      "DT Testing accuracy 0.768\n",
      "NB Testing accuracy 0.780\n",
      "RF Testing accuracy 0.804\n",
      "----- * ----- * ----- * ----- * ----- * ----- * ----- * -----\n",
      "Backdoor Attack on Test Data...\n",
      "Test data label counts after attack: Counter({1: 499})\n"
     ]
    },
    {
     "name": "stderr",
     "output_type": "stream",
     "text": [
      "<ipython-input-72-29ac91f6fb8e>:9: SettingWithCopyWarning: \n",
      "A value is trying to be set on a copy of a slice from a DataFrame.\n",
      "Try using .loc[row_indexer,col_indexer] = value instead\n",
      "\n",
      "See the caveats in the documentation: https://pandas.pydata.org/pandas-docs/stable/user_guide/indexing.html#returning-a-view-versus-a-copy\n",
      "  dataFrame[textFeatureName] = dataFrame.text.astype(str)\n"
     ]
    },
    {
     "name": "stdout",
     "output_type": "stream",
     "text": [
      "----- * ----- *  Backdoor Attack Evaluataion  * ----- * -----\n",
      "LR BD Success Rate 0.764\n",
      "DT BD Success Rate 0.709\n",
      "NB BD Success Rate 0.497\n",
      "RF BD Success Rate 0.729\n",
      "----- * ----- * ----- * ----- * ----- * ----- * ----- * -----\n",
      "Attack Settings: \n",
      "-> Type: Sentence Level \n",
      "-> Poison rate: 0.1\n",
      "-> Trigger: I watched this 3D movie with my friends at the best cinema nearby last Friday\n",
      "Backdoor Attack on Train Data...\n",
      "Train data label counts after attack: Counter({1: 3000, 0: 2000})\n",
      "Preprocessing...\n",
      "Doc2Vec Training...\n"
     ]
    },
    {
     "name": "stderr",
     "output_type": "stream",
     "text": [
      "100%|██████████| 5000/5000 [00:00<00:00, 1243198.77it/s]\n",
      "100%|██████████| 5000/5000 [00:00<00:00, 1509393.98it/s]\n"
     ]
    },
    {
     "name": "stdout",
     "output_type": "stream",
     "text": [
      "ML Model Training & Evaluation...\n",
      "----- *    Classification Performance Evaluataion     * -----\n",
      "LR Testing accuracy 0.785\n",
      "DT Testing accuracy 0.763\n",
      "NB Testing accuracy 0.775\n",
      "RF Testing accuracy 0.796\n",
      "----- * ----- * ----- * ----- * ----- * ----- * ----- * -----\n",
      "Backdoor Attack on Test Data...\n",
      "Test data label counts after attack: Counter({1: 499})\n"
     ]
    },
    {
     "name": "stderr",
     "output_type": "stream",
     "text": [
      "<ipython-input-72-29ac91f6fb8e>:9: SettingWithCopyWarning: \n",
      "A value is trying to be set on a copy of a slice from a DataFrame.\n",
      "Try using .loc[row_indexer,col_indexer] = value instead\n",
      "\n",
      "See the caveats in the documentation: https://pandas.pydata.org/pandas-docs/stable/user_guide/indexing.html#returning-a-view-versus-a-copy\n",
      "  dataFrame[textFeatureName] = dataFrame.text.astype(str)\n"
     ]
    },
    {
     "name": "stdout",
     "output_type": "stream",
     "text": [
      "----- * ----- *  Backdoor Attack Evaluataion  * ----- * -----\n",
      "LR BD Success Rate 0.862\n",
      "DT BD Success Rate 0.822\n",
      "NB BD Success Rate 0.679\n",
      "RF BD Success Rate 0.842\n",
      "----- * ----- * ----- * ----- * ----- * ----- * ----- * -----\n",
      "Attack Settings: \n",
      "-> Type: Sentence Level \n",
      "-> Poison rate: 0.3\n",
      "-> Trigger: I watched this 3D movie with my friends at the best cinema nearby last Friday\n",
      "Backdoor Attack on Train Data...\n",
      "Train data label counts after attack: Counter({1: 4000, 0: 1000})\n",
      "Preprocessing...\n",
      "Doc2Vec Training...\n"
     ]
    },
    {
     "name": "stderr",
     "output_type": "stream",
     "text": [
      "100%|██████████| 5000/5000 [00:00<00:00, 1115269.09it/s]\n",
      "100%|██████████| 5000/5000 [00:00<00:00, 1159095.78it/s]\n"
     ]
    },
    {
     "name": "stdout",
     "output_type": "stream",
     "text": [
      "ML Model Training & Evaluation...\n",
      "----- *    Classification Performance Evaluataion     * -----\n",
      "LR Testing accuracy 0.678\n",
      "DT Testing accuracy 0.680\n",
      "NB Testing accuracy 0.743\n",
      "RF Testing accuracy 0.711\n",
      "----- * ----- * ----- * ----- * ----- * ----- * ----- * -----\n",
      "Backdoor Attack on Test Data...\n",
      "Test data label counts after attack: Counter({1: 499})\n"
     ]
    },
    {
     "name": "stderr",
     "output_type": "stream",
     "text": [
      "<ipython-input-72-29ac91f6fb8e>:9: SettingWithCopyWarning: \n",
      "A value is trying to be set on a copy of a slice from a DataFrame.\n",
      "Try using .loc[row_indexer,col_indexer] = value instead\n",
      "\n",
      "See the caveats in the documentation: https://pandas.pydata.org/pandas-docs/stable/user_guide/indexing.html#returning-a-view-versus-a-copy\n",
      "  dataFrame[textFeatureName] = dataFrame.text.astype(str)\n"
     ]
    },
    {
     "name": "stdout",
     "output_type": "stream",
     "text": [
      "----- * ----- *  Backdoor Attack Evaluataion  * ----- * -----\n",
      "LR BD Success Rate 0.974\n",
      "DT BD Success Rate 0.966\n",
      "NB BD Success Rate 0.930\n",
      "RF BD Success Rate 0.986\n",
      "----- * ----- * ----- * ----- * ----- * ----- * ----- * -----\n",
      "CPU times: user 12min 7s, sys: 5.71 s, total: 12min 13s\n",
      "Wall time: 10min 23s\n"
     ]
    }
   ],
   "source": [
    "%%time\n",
    "print(\"Sentence Level Backdoor Attack Results:\")\n",
    "execute_pipeline_SentenceLevel(train, test)"
   ]
  },
  {
   "cell_type": "code",
   "execution_count": 121,
   "metadata": {
    "colab": {
     "base_uri": "https://localhost:8080/"
    },
    "id": "QZqOQDWw41GM",
    "outputId": "5f023a9b-b9b4-46e5-8aa5-2596eb3cb256"
   },
   "outputs": [
    {
     "name": "stdout",
     "output_type": "stream",
     "text": [
      "Word Level Backdoor Attack Results (without defense):\n",
      "Train data label counts before attack: Counter({0: 2500, 1: 2500})\n",
      "Test data label counts before attack: Counter({1: 501, 0: 499})\n",
      "Attack Settings: \n",
      "-> Type: Word Level \n",
      "-> Poison rate: 0.05\n",
      "-> Num of Triggers: 1\n",
      "Backdoor Attack on Train Data...\n",
      "Train data label counts after attack: Counter({1: 2750, 0: 2250})\n",
      "Preprocessing...\n",
      "Doc2Vec Training...\n"
     ]
    },
    {
     "name": "stderr",
     "output_type": "stream",
     "text": [
      "100%|██████████| 5000/5000 [00:00<00:00, 982272.60it/s]\n",
      "100%|██████████| 5000/5000 [00:00<00:00, 909077.98it/s]\n"
     ]
    },
    {
     "name": "stdout",
     "output_type": "stream",
     "text": [
      "ML Model Training & Evaluation...\n",
      "----- *    Classification Performance Evaluataion     * -----\n",
      "LR Testing accuracy 0.779\n",
      "DT Testing accuracy 0.768\n",
      "NB Testing accuracy 0.767\n",
      "RF Testing accuracy 0.784\n",
      "----- * ----- * ----- * ----- * ----- * ----- * ----- * -----\n",
      "Backdoor Attack on Test Data...\n",
      "Test data label counts after attack: Counter({1: 499})\n"
     ]
    },
    {
     "name": "stderr",
     "output_type": "stream",
     "text": [
      "<ipython-input-72-29ac91f6fb8e>:9: SettingWithCopyWarning: \n",
      "A value is trying to be set on a copy of a slice from a DataFrame.\n",
      "Try using .loc[row_indexer,col_indexer] = value instead\n",
      "\n",
      "See the caveats in the documentation: https://pandas.pydata.org/pandas-docs/stable/user_guide/indexing.html#returning-a-view-versus-a-copy\n",
      "  dataFrame[textFeatureName] = dataFrame.text.astype(str)\n"
     ]
    },
    {
     "name": "stdout",
     "output_type": "stream",
     "text": [
      "----- * ----- *  Backdoor Attack Evaluataion  * ----- * -----\n",
      "LR BD Success Rate 0.277\n",
      "DT BD Success Rate 0.297\n",
      "NB BD Success Rate 0.146\n",
      "RF BD Success Rate 0.246\n",
      "----- * ----- * ----- * ----- * ----- * ----- * ----- * -----\n",
      "Attack Settings: \n",
      "-> Type: Word Level \n",
      "-> Poison rate: 0.1\n",
      "-> Num of Triggers: 1\n",
      "Backdoor Attack on Train Data...\n",
      "Train data label counts after attack: Counter({1: 3000, 0: 2000})\n",
      "Preprocessing...\n",
      "Doc2Vec Training...\n"
     ]
    },
    {
     "name": "stderr",
     "output_type": "stream",
     "text": [
      "100%|██████████| 5000/5000 [00:00<00:00, 921987.16it/s]\n",
      "100%|██████████| 5000/5000 [00:00<00:00, 1608368.74it/s]\n"
     ]
    },
    {
     "name": "stdout",
     "output_type": "stream",
     "text": [
      "ML Model Training & Evaluation...\n",
      "----- *    Classification Performance Evaluataion     * -----\n",
      "LR Testing accuracy 0.773\n",
      "DT Testing accuracy 0.749\n",
      "NB Testing accuracy 0.791\n",
      "RF Testing accuracy 0.773\n",
      "----- * ----- * ----- * ----- * ----- * ----- * ----- * -----\n",
      "Backdoor Attack on Test Data...\n",
      "Test data label counts after attack: Counter({1: 499})\n"
     ]
    },
    {
     "name": "stderr",
     "output_type": "stream",
     "text": [
      "<ipython-input-72-29ac91f6fb8e>:9: SettingWithCopyWarning: \n",
      "A value is trying to be set on a copy of a slice from a DataFrame.\n",
      "Try using .loc[row_indexer,col_indexer] = value instead\n",
      "\n",
      "See the caveats in the documentation: https://pandas.pydata.org/pandas-docs/stable/user_guide/indexing.html#returning-a-view-versus-a-copy\n",
      "  dataFrame[textFeatureName] = dataFrame.text.astype(str)\n"
     ]
    },
    {
     "name": "stdout",
     "output_type": "stream",
     "text": [
      "----- * ----- *  Backdoor Attack Evaluataion  * ----- * -----\n",
      "LR BD Success Rate 0.333\n",
      "DT BD Success Rate 0.359\n",
      "NB BD Success Rate 0.174\n",
      "RF BD Success Rate 0.299\n",
      "----- * ----- * ----- * ----- * ----- * ----- * ----- * -----\n",
      "Attack Settings: \n",
      "-> Type: Word Level \n",
      "-> Poison rate: 0.3\n",
      "-> Num of Triggers: 1\n",
      "Backdoor Attack on Train Data...\n",
      "Train data label counts after attack: Counter({1: 4000, 0: 1000})\n",
      "Preprocessing...\n",
      "Doc2Vec Training...\n"
     ]
    },
    {
     "name": "stderr",
     "output_type": "stream",
     "text": [
      "100%|██████████| 5000/5000 [00:00<00:00, 1228704.01it/s]\n",
      "100%|██████████| 5000/5000 [00:00<00:00, 1287307.10it/s]\n"
     ]
    },
    {
     "name": "stdout",
     "output_type": "stream",
     "text": [
      "ML Model Training & Evaluation...\n",
      "----- *    Classification Performance Evaluataion     * -----\n",
      "LR Testing accuracy 0.604\n",
      "DT Testing accuracy 0.655\n",
      "NB Testing accuracy 0.697\n",
      "RF Testing accuracy 0.648\n",
      "----- * ----- * ----- * ----- * ----- * ----- * ----- * -----\n",
      "Backdoor Attack on Test Data...\n",
      "Test data label counts after attack: Counter({1: 499})\n"
     ]
    },
    {
     "name": "stderr",
     "output_type": "stream",
     "text": [
      "<ipython-input-72-29ac91f6fb8e>:9: SettingWithCopyWarning: \n",
      "A value is trying to be set on a copy of a slice from a DataFrame.\n",
      "Try using .loc[row_indexer,col_indexer] = value instead\n",
      "\n",
      "See the caveats in the documentation: https://pandas.pydata.org/pandas-docs/stable/user_guide/indexing.html#returning-a-view-versus-a-copy\n",
      "  dataFrame[textFeatureName] = dataFrame.text.astype(str)\n"
     ]
    },
    {
     "name": "stdout",
     "output_type": "stream",
     "text": [
      "----- * ----- *  Backdoor Attack Evaluataion  * ----- * -----\n",
      "LR BD Success Rate 0.778\n",
      "DT BD Success Rate 0.601\n",
      "NB BD Success Rate 0.519\n",
      "RF BD Success Rate 0.669\n",
      "----- * ----- * ----- * ----- * ----- * ----- * ----- * -----\n",
      "Attack Settings: \n",
      "-> Type: Word Level \n",
      "-> Poison rate: 0.05\n",
      "-> Num of Triggers: 3\n",
      "Backdoor Attack on Train Data...\n",
      "Train data label counts after attack: Counter({1: 2750, 0: 2250})\n",
      "Preprocessing...\n",
      "Doc2Vec Training...\n"
     ]
    },
    {
     "name": "stderr",
     "output_type": "stream",
     "text": [
      "100%|██████████| 5000/5000 [00:00<00:00, 1258794.72it/s]\n",
      "100%|██████████| 5000/5000 [00:00<00:00, 1224471.30it/s]\n"
     ]
    },
    {
     "name": "stdout",
     "output_type": "stream",
     "text": [
      "ML Model Training & Evaluation...\n",
      "----- *    Classification Performance Evaluataion     * -----\n",
      "LR Testing accuracy 0.800\n",
      "DT Testing accuracy 0.777\n",
      "NB Testing accuracy 0.775\n",
      "RF Testing accuracy 0.806\n",
      "----- * ----- * ----- * ----- * ----- * ----- * ----- * -----\n",
      "Backdoor Attack on Test Data...\n",
      "Test data label counts after attack: Counter({1: 499})\n"
     ]
    },
    {
     "name": "stderr",
     "output_type": "stream",
     "text": [
      "<ipython-input-72-29ac91f6fb8e>:9: SettingWithCopyWarning: \n",
      "A value is trying to be set on a copy of a slice from a DataFrame.\n",
      "Try using .loc[row_indexer,col_indexer] = value instead\n",
      "\n",
      "See the caveats in the documentation: https://pandas.pydata.org/pandas-docs/stable/user_guide/indexing.html#returning-a-view-versus-a-copy\n",
      "  dataFrame[textFeatureName] = dataFrame.text.astype(str)\n"
     ]
    },
    {
     "name": "stdout",
     "output_type": "stream",
     "text": [
      "----- * ----- *  Backdoor Attack Evaluataion  * ----- * -----\n",
      "LR BD Success Rate 0.228\n",
      "DT BD Success Rate 0.248\n",
      "NB BD Success Rate 0.156\n",
      "RF BD Success Rate 0.218\n",
      "----- * ----- * ----- * ----- * ----- * ----- * ----- * -----\n",
      "Attack Settings: \n",
      "-> Type: Word Level \n",
      "-> Poison rate: 0.1\n",
      "-> Num of Triggers: 3\n",
      "Backdoor Attack on Train Data...\n",
      "Train data label counts after attack: Counter({1: 3000, 0: 2000})\n",
      "Preprocessing...\n",
      "Doc2Vec Training...\n"
     ]
    },
    {
     "name": "stderr",
     "output_type": "stream",
     "text": [
      "100%|██████████| 5000/5000 [00:00<00:00, 1282504.89it/s]\n",
      "100%|██████████| 5000/5000 [00:00<00:00, 1331102.51it/s]\n"
     ]
    },
    {
     "name": "stdout",
     "output_type": "stream",
     "text": [
      "ML Model Training & Evaluation...\n",
      "----- *    Classification Performance Evaluataion     * -----\n",
      "LR Testing accuracy 0.791\n",
      "DT Testing accuracy 0.758\n",
      "NB Testing accuracy 0.784\n",
      "RF Testing accuracy 0.796\n",
      "----- * ----- * ----- * ----- * ----- * ----- * ----- * -----\n",
      "Backdoor Attack on Test Data...\n",
      "Test data label counts after attack: Counter({1: 499})\n"
     ]
    },
    {
     "name": "stderr",
     "output_type": "stream",
     "text": [
      "<ipython-input-72-29ac91f6fb8e>:9: SettingWithCopyWarning: \n",
      "A value is trying to be set on a copy of a slice from a DataFrame.\n",
      "Try using .loc[row_indexer,col_indexer] = value instead\n",
      "\n",
      "See the caveats in the documentation: https://pandas.pydata.org/pandas-docs/stable/user_guide/indexing.html#returning-a-view-versus-a-copy\n",
      "  dataFrame[textFeatureName] = dataFrame.text.astype(str)\n"
     ]
    },
    {
     "name": "stdout",
     "output_type": "stream",
     "text": [
      "----- * ----- *  Backdoor Attack Evaluataion  * ----- * -----\n",
      "LR BD Success Rate 0.665\n",
      "DT BD Success Rate 0.589\n",
      "NB BD Success Rate 0.411\n",
      "RF BD Success Rate 0.625\n",
      "----- * ----- * ----- * ----- * ----- * ----- * ----- * -----\n",
      "Attack Settings: \n",
      "-> Type: Word Level \n",
      "-> Poison rate: 0.3\n",
      "-> Num of Triggers: 3\n",
      "Backdoor Attack on Train Data...\n",
      "Train data label counts after attack: Counter({1: 4000, 0: 1000})\n",
      "Preprocessing...\n",
      "Doc2Vec Training...\n"
     ]
    },
    {
     "name": "stderr",
     "output_type": "stream",
     "text": [
      "100%|██████████| 5000/5000 [00:00<00:00, 965939.85it/s]\n",
      "100%|██████████| 5000/5000 [00:00<00:00, 943176.07it/s]\n"
     ]
    },
    {
     "name": "stdout",
     "output_type": "stream",
     "text": [
      "ML Model Training & Evaluation...\n",
      "----- *    Classification Performance Evaluataion     * -----\n",
      "LR Testing accuracy 0.689\n",
      "DT Testing accuracy 0.712\n",
      "NB Testing accuracy 0.711\n",
      "RF Testing accuracy 0.714\n",
      "----- * ----- * ----- * ----- * ----- * ----- * ----- * -----\n",
      "Backdoor Attack on Test Data...\n",
      "Test data label counts after attack: Counter({1: 499})\n"
     ]
    },
    {
     "name": "stderr",
     "output_type": "stream",
     "text": [
      "<ipython-input-72-29ac91f6fb8e>:9: SettingWithCopyWarning: \n",
      "A value is trying to be set on a copy of a slice from a DataFrame.\n",
      "Try using .loc[row_indexer,col_indexer] = value instead\n",
      "\n",
      "See the caveats in the documentation: https://pandas.pydata.org/pandas-docs/stable/user_guide/indexing.html#returning-a-view-versus-a-copy\n",
      "  dataFrame[textFeatureName] = dataFrame.text.astype(str)\n"
     ]
    },
    {
     "name": "stdout",
     "output_type": "stream",
     "text": [
      "----- * ----- *  Backdoor Attack Evaluataion  * ----- * -----\n",
      "LR BD Success Rate 0.906\n",
      "DT BD Success Rate 0.842\n",
      "NB BD Success Rate 0.824\n",
      "RF BD Success Rate 0.886\n",
      "----- * ----- * ----- * ----- * ----- * ----- * ----- * -----\n",
      "Attack Settings: \n",
      "-> Type: Word Level \n",
      "-> Poison rate: 0.05\n",
      "-> Num of Triggers: 5\n",
      "Backdoor Attack on Train Data...\n",
      "Train data label counts after attack: Counter({1: 2750, 0: 2250})\n",
      "Preprocessing...\n",
      "Doc2Vec Training...\n"
     ]
    },
    {
     "name": "stderr",
     "output_type": "stream",
     "text": [
      "100%|██████████| 5000/5000 [00:00<00:00, 947951.00it/s]\n",
      "100%|██████████| 5000/5000 [00:00<00:00, 932772.32it/s]\n"
     ]
    },
    {
     "name": "stdout",
     "output_type": "stream",
     "text": [
      "ML Model Training & Evaluation...\n",
      "----- *    Classification Performance Evaluataion     * -----\n",
      "LR Testing accuracy 0.802\n",
      "DT Testing accuracy 0.783\n",
      "NB Testing accuracy 0.783\n",
      "RF Testing accuracy 0.808\n",
      "----- * ----- * ----- * ----- * ----- * ----- * ----- * -----\n",
      "Backdoor Attack on Test Data...\n",
      "Test data label counts after attack: Counter({1: 499})\n"
     ]
    },
    {
     "name": "stderr",
     "output_type": "stream",
     "text": [
      "<ipython-input-72-29ac91f6fb8e>:9: SettingWithCopyWarning: \n",
      "A value is trying to be set on a copy of a slice from a DataFrame.\n",
      "Try using .loc[row_indexer,col_indexer] = value instead\n",
      "\n",
      "See the caveats in the documentation: https://pandas.pydata.org/pandas-docs/stable/user_guide/indexing.html#returning-a-view-versus-a-copy\n",
      "  dataFrame[textFeatureName] = dataFrame.text.astype(str)\n"
     ]
    },
    {
     "name": "stdout",
     "output_type": "stream",
     "text": [
      "----- * ----- *  Backdoor Attack Evaluataion  * ----- * -----\n",
      "LR BD Success Rate 0.405\n",
      "DT BD Success Rate 0.397\n",
      "NB BD Success Rate 0.240\n",
      "RF BD Success Rate 0.383\n",
      "----- * ----- * ----- * ----- * ----- * ----- * ----- * -----\n",
      "Attack Settings: \n",
      "-> Type: Word Level \n",
      "-> Poison rate: 0.1\n",
      "-> Num of Triggers: 5\n",
      "Backdoor Attack on Train Data...\n",
      "Train data label counts after attack: Counter({1: 3000, 0: 2000})\n",
      "Preprocessing...\n",
      "Doc2Vec Training...\n"
     ]
    },
    {
     "name": "stderr",
     "output_type": "stream",
     "text": [
      "100%|██████████| 5000/5000 [00:00<00:00, 795339.81it/s]\n",
      "100%|██████████| 5000/5000 [00:00<00:00, 996982.17it/s]\n"
     ]
    },
    {
     "name": "stdout",
     "output_type": "stream",
     "text": [
      "ML Model Training & Evaluation...\n",
      "----- *    Classification Performance Evaluataion     * -----\n",
      "LR Testing accuracy 0.795\n",
      "DT Testing accuracy 0.766\n",
      "NB Testing accuracy 0.781\n",
      "RF Testing accuracy 0.791\n",
      "----- * ----- * ----- * ----- * ----- * ----- * ----- * -----\n",
      "Backdoor Attack on Test Data...\n",
      "Test data label counts after attack: Counter({1: 499})\n"
     ]
    },
    {
     "name": "stderr",
     "output_type": "stream",
     "text": [
      "<ipython-input-72-29ac91f6fb8e>:9: SettingWithCopyWarning: \n",
      "A value is trying to be set on a copy of a slice from a DataFrame.\n",
      "Try using .loc[row_indexer,col_indexer] = value instead\n",
      "\n",
      "See the caveats in the documentation: https://pandas.pydata.org/pandas-docs/stable/user_guide/indexing.html#returning-a-view-versus-a-copy\n",
      "  dataFrame[textFeatureName] = dataFrame.text.astype(str)\n"
     ]
    },
    {
     "name": "stdout",
     "output_type": "stream",
     "text": [
      "----- * ----- *  Backdoor Attack Evaluataion  * ----- * -----\n",
      "LR BD Success Rate 0.687\n",
      "DT BD Success Rate 0.637\n",
      "NB BD Success Rate 0.459\n",
      "RF BD Success Rate 0.671\n",
      "----- * ----- * ----- * ----- * ----- * ----- * ----- * -----\n",
      "Attack Settings: \n",
      "-> Type: Word Level \n",
      "-> Poison rate: 0.3\n",
      "-> Num of Triggers: 5\n",
      "Backdoor Attack on Train Data...\n",
      "Train data label counts after attack: Counter({1: 4000, 0: 1000})\n",
      "Preprocessing...\n",
      "Doc2Vec Training...\n"
     ]
    },
    {
     "name": "stderr",
     "output_type": "stream",
     "text": [
      "100%|██████████| 5000/5000 [00:00<00:00, 995704.11it/s]\n",
      "100%|██████████| 5000/5000 [00:00<00:00, 1074250.59it/s]\n"
     ]
    },
    {
     "name": "stdout",
     "output_type": "stream",
     "text": [
      "ML Model Training & Evaluation...\n",
      "----- *    Classification Performance Evaluataion     * -----\n",
      "LR Testing accuracy 0.680\n",
      "DT Testing accuracy 0.673\n",
      "NB Testing accuracy 0.718\n",
      "RF Testing accuracy 0.706\n",
      "----- * ----- * ----- * ----- * ----- * ----- * ----- * -----\n",
      "Backdoor Attack on Test Data...\n",
      "Test data label counts after attack: Counter({1: 499})\n"
     ]
    },
    {
     "name": "stderr",
     "output_type": "stream",
     "text": [
      "<ipython-input-72-29ac91f6fb8e>:9: SettingWithCopyWarning: \n",
      "A value is trying to be set on a copy of a slice from a DataFrame.\n",
      "Try using .loc[row_indexer,col_indexer] = value instead\n",
      "\n",
      "See the caveats in the documentation: https://pandas.pydata.org/pandas-docs/stable/user_guide/indexing.html#returning-a-view-versus-a-copy\n",
      "  dataFrame[textFeatureName] = dataFrame.text.astype(str)\n"
     ]
    },
    {
     "name": "stdout",
     "output_type": "stream",
     "text": [
      "----- * ----- *  Backdoor Attack Evaluataion  * ----- * -----\n",
      "LR BD Success Rate 0.888\n",
      "DT BD Success Rate 0.896\n",
      "NB BD Success Rate 0.792\n",
      "RF BD Success Rate 0.902\n",
      "----- * ----- * ----- * ----- * ----- * ----- * ----- * -----\n",
      "CPU times: user 11min 56s, sys: 6.07 s, total: 12min 2s\n",
      "Wall time: 10min 14s\n"
     ]
    }
   ],
   "source": [
    "%%time\n",
    "print(\"Word Level Backdoor Attack Results (without defense):\")\n",
    "execute_pipeline_WordLevel(train, test)"
   ]
  },
  {
   "cell_type": "code",
   "execution_count": 122,
   "metadata": {
    "colab": {
     "base_uri": "https://localhost:8080/"
    },
    "id": "hzYxhXROZ37R",
    "outputId": "3b8fc888-1051-4138-96fa-c8907835cc2e"
   },
   "outputs": [
    {
     "name": "stdout",
     "output_type": "stream",
     "text": [
      "Word Level Backdoor Attack Results (with defense):\n",
      "Train data label counts before attack: Counter({0: 2500, 1: 2500})\n",
      "Test data label counts before attack: Counter({1: 501, 0: 499})\n",
      "Attack Settings: \n",
      "-> Type: Word Level \n",
      "-> Poison rate: 0.05\n",
      "-> Num of Triggers: 1\n",
      "Backdoor Attack on Train Data...\n",
      "Train data label counts after attack: Counter({1: 2750, 0: 2250})\n",
      "Preprocessing...\n",
      "Doc2Vec Training...\n"
     ]
    },
    {
     "name": "stderr",
     "output_type": "stream",
     "text": [
      "100%|██████████| 5000/5000 [00:00<00:00, 861819.68it/s]\n",
      "100%|██████████| 5000/5000 [00:00<00:00, 1412699.23it/s]\n"
     ]
    },
    {
     "name": "stdout",
     "output_type": "stream",
     "text": [
      "ML Model Training & Evaluation...\n",
      "----- *    Classification Performance Evaluataion     * -----\n",
      "LR Testing accuracy 0.804\n",
      "DT Testing accuracy 0.737\n",
      "NB Testing accuracy 0.790\n",
      "RF Testing accuracy 0.800\n",
      "----- * ----- * ----- * ----- * ----- * ----- * ----- * -----\n",
      "Backdoor Attack on Test Data...\n",
      "Test data label counts after attack: Counter({1: 499})\n"
     ]
    },
    {
     "name": "stderr",
     "output_type": "stream",
     "text": [
      "<ipython-input-72-29ac91f6fb8e>:9: SettingWithCopyWarning: \n",
      "A value is trying to be set on a copy of a slice from a DataFrame.\n",
      "Try using .loc[row_indexer,col_indexer] = value instead\n",
      "\n",
      "See the caveats in the documentation: https://pandas.pydata.org/pandas-docs/stable/user_guide/indexing.html#returning-a-view-versus-a-copy\n",
      "  dataFrame[textFeatureName] = dataFrame.text.astype(str)\n"
     ]
    },
    {
     "name": "stdout",
     "output_type": "stream",
     "text": [
      "----- * ----- *  Backdoor Attack Evaluataion  * ----- * -----\n",
      "LR BD Success Rate 0.230\n",
      "DT BD Success Rate 0.273\n",
      "NB BD Success Rate 0.180\n",
      "RF BD Success Rate 0.196\n",
      "----- * ----- * ----- * ----- * ----- * ----- * ----- * -----\n",
      "Attack Settings: \n",
      "-> Type: Word Level \n",
      "-> Poison rate: 0.1\n",
      "-> Num of Triggers: 1\n",
      "Backdoor Attack on Train Data...\n",
      "Train data label counts after attack: Counter({1: 3000, 0: 2000})\n",
      "Preprocessing...\n",
      "Doc2Vec Training...\n"
     ]
    },
    {
     "name": "stderr",
     "output_type": "stream",
     "text": [
      "100%|██████████| 5000/5000 [00:00<00:00, 1310474.29it/s]\n",
      "100%|██████████| 5000/5000 [00:00<00:00, 1236091.01it/s]\n"
     ]
    },
    {
     "name": "stdout",
     "output_type": "stream",
     "text": [
      "ML Model Training & Evaluation...\n",
      "----- *    Classification Performance Evaluataion     * -----\n",
      "LR Testing accuracy 0.776\n",
      "DT Testing accuracy 0.725\n",
      "NB Testing accuracy 0.796\n",
      "RF Testing accuracy 0.785\n",
      "----- * ----- * ----- * ----- * ----- * ----- * ----- * -----\n",
      "Backdoor Attack on Test Data...\n",
      "Test data label counts after attack: Counter({1: 499})\n"
     ]
    },
    {
     "name": "stderr",
     "output_type": "stream",
     "text": [
      "<ipython-input-72-29ac91f6fb8e>:9: SettingWithCopyWarning: \n",
      "A value is trying to be set on a copy of a slice from a DataFrame.\n",
      "Try using .loc[row_indexer,col_indexer] = value instead\n",
      "\n",
      "See the caveats in the documentation: https://pandas.pydata.org/pandas-docs/stable/user_guide/indexing.html#returning-a-view-versus-a-copy\n",
      "  dataFrame[textFeatureName] = dataFrame.text.astype(str)\n"
     ]
    },
    {
     "name": "stdout",
     "output_type": "stream",
     "text": [
      "----- * ----- *  Backdoor Attack Evaluataion  * ----- * -----\n",
      "LR BD Success Rate 0.337\n",
      "DT BD Success Rate 0.361\n",
      "NB BD Success Rate 0.194\n",
      "RF BD Success Rate 0.267\n",
      "----- * ----- * ----- * ----- * ----- * ----- * ----- * -----\n",
      "Attack Settings: \n",
      "-> Type: Word Level \n",
      "-> Poison rate: 0.3\n",
      "-> Num of Triggers: 1\n",
      "Backdoor Attack on Train Data...\n",
      "Train data label counts after attack: Counter({1: 4000, 0: 1000})\n",
      "Preprocessing...\n",
      "Doc2Vec Training...\n"
     ]
    },
    {
     "name": "stderr",
     "output_type": "stream",
     "text": [
      "100%|██████████| 5000/5000 [00:00<00:00, 1162630.00it/s]\n",
      "100%|██████████| 5000/5000 [00:00<00:00, 1246968.72it/s]\n"
     ]
    },
    {
     "name": "stdout",
     "output_type": "stream",
     "text": [
      "ML Model Training & Evaluation...\n",
      "----- *    Classification Performance Evaluataion     * -----\n",
      "LR Testing accuracy 0.615\n",
      "DT Testing accuracy 0.640\n",
      "NB Testing accuracy 0.733\n",
      "RF Testing accuracy 0.637\n",
      "----- * ----- * ----- * ----- * ----- * ----- * ----- * -----\n",
      "Backdoor Attack on Test Data...\n",
      "Test data label counts after attack: Counter({1: 499})\n"
     ]
    },
    {
     "name": "stderr",
     "output_type": "stream",
     "text": [
      "<ipython-input-72-29ac91f6fb8e>:9: SettingWithCopyWarning: \n",
      "A value is trying to be set on a copy of a slice from a DataFrame.\n",
      "Try using .loc[row_indexer,col_indexer] = value instead\n",
      "\n",
      "See the caveats in the documentation: https://pandas.pydata.org/pandas-docs/stable/user_guide/indexing.html#returning-a-view-versus-a-copy\n",
      "  dataFrame[textFeatureName] = dataFrame.text.astype(str)\n"
     ]
    },
    {
     "name": "stdout",
     "output_type": "stream",
     "text": [
      "----- * ----- *  Backdoor Attack Evaluataion  * ----- * -----\n",
      "LR BD Success Rate 0.741\n",
      "DT BD Success Rate 0.629\n",
      "NB BD Success Rate 0.395\n",
      "RF BD Success Rate 0.683\n",
      "----- * ----- * ----- * ----- * ----- * ----- * ----- * -----\n",
      "Attack Settings: \n",
      "-> Type: Word Level \n",
      "-> Poison rate: 0.05\n",
      "-> Num of Triggers: 3\n",
      "Backdoor Attack on Train Data...\n",
      "Train data label counts after attack: Counter({1: 2750, 0: 2250})\n",
      "Preprocessing...\n",
      "Doc2Vec Training...\n"
     ]
    },
    {
     "name": "stderr",
     "output_type": "stream",
     "text": [
      "100%|██████████| 5000/5000 [00:00<00:00, 1288572.66it/s]\n",
      "100%|██████████| 5000/5000 [00:00<00:00, 931943.30it/s]\n"
     ]
    },
    {
     "name": "stdout",
     "output_type": "stream",
     "text": [
      "ML Model Training & Evaluation...\n",
      "----- *    Classification Performance Evaluataion     * -----\n",
      "LR Testing accuracy 0.798\n",
      "DT Testing accuracy 0.750\n",
      "NB Testing accuracy 0.790\n",
      "RF Testing accuracy 0.809\n",
      "----- * ----- * ----- * ----- * ----- * ----- * ----- * -----\n",
      "Backdoor Attack on Test Data...\n",
      "Test data label counts after attack: Counter({1: 499})\n"
     ]
    },
    {
     "name": "stderr",
     "output_type": "stream",
     "text": [
      "<ipython-input-72-29ac91f6fb8e>:9: SettingWithCopyWarning: \n",
      "A value is trying to be set on a copy of a slice from a DataFrame.\n",
      "Try using .loc[row_indexer,col_indexer] = value instead\n",
      "\n",
      "See the caveats in the documentation: https://pandas.pydata.org/pandas-docs/stable/user_guide/indexing.html#returning-a-view-versus-a-copy\n",
      "  dataFrame[textFeatureName] = dataFrame.text.astype(str)\n"
     ]
    },
    {
     "name": "stdout",
     "output_type": "stream",
     "text": [
      "----- * ----- *  Backdoor Attack Evaluataion  * ----- * -----\n",
      "LR BD Success Rate 0.251\n",
      "DT BD Success Rate 0.303\n",
      "NB BD Success Rate 0.188\n",
      "RF BD Success Rate 0.212\n",
      "----- * ----- * ----- * ----- * ----- * ----- * ----- * -----\n",
      "Attack Settings: \n",
      "-> Type: Word Level \n",
      "-> Poison rate: 0.1\n",
      "-> Num of Triggers: 3\n",
      "Backdoor Attack on Train Data...\n",
      "Train data label counts after attack: Counter({1: 3000, 0: 2000})\n",
      "Preprocessing...\n",
      "Doc2Vec Training...\n"
     ]
    },
    {
     "name": "stderr",
     "output_type": "stream",
     "text": [
      "100%|██████████| 5000/5000 [00:00<00:00, 895950.78it/s]\n",
      "100%|██████████| 5000/5000 [00:00<00:00, 1466642.42it/s]\n"
     ]
    },
    {
     "name": "stdout",
     "output_type": "stream",
     "text": [
      "ML Model Training & Evaluation...\n",
      "----- *    Classification Performance Evaluataion     * -----\n",
      "LR Testing accuracy 0.782\n",
      "DT Testing accuracy 0.729\n",
      "NB Testing accuracy 0.790\n",
      "RF Testing accuracy 0.804\n",
      "----- * ----- * ----- * ----- * ----- * ----- * ----- * -----\n",
      "Backdoor Attack on Test Data...\n",
      "Test data label counts after attack: Counter({1: 499})\n"
     ]
    },
    {
     "name": "stderr",
     "output_type": "stream",
     "text": [
      "<ipython-input-72-29ac91f6fb8e>:9: SettingWithCopyWarning: \n",
      "A value is trying to be set on a copy of a slice from a DataFrame.\n",
      "Try using .loc[row_indexer,col_indexer] = value instead\n",
      "\n",
      "See the caveats in the documentation: https://pandas.pydata.org/pandas-docs/stable/user_guide/indexing.html#returning-a-view-versus-a-copy\n",
      "  dataFrame[textFeatureName] = dataFrame.text.astype(str)\n"
     ]
    },
    {
     "name": "stdout",
     "output_type": "stream",
     "text": [
      "----- * ----- *  Backdoor Attack Evaluataion  * ----- * -----\n",
      "LR BD Success Rate 0.343\n",
      "DT BD Success Rate 0.361\n",
      "NB BD Success Rate 0.196\n",
      "RF BD Success Rate 0.251\n",
      "----- * ----- * ----- * ----- * ----- * ----- * ----- * -----\n",
      "Attack Settings: \n",
      "-> Type: Word Level \n",
      "-> Poison rate: 0.3\n",
      "-> Num of Triggers: 3\n",
      "Backdoor Attack on Train Data...\n",
      "Train data label counts after attack: Counter({1: 4000, 0: 1000})\n",
      "Preprocessing...\n",
      "Doc2Vec Training...\n"
     ]
    },
    {
     "name": "stderr",
     "output_type": "stream",
     "text": [
      "100%|██████████| 5000/5000 [00:00<00:00, 1296058.34it/s]\n",
      "100%|██████████| 5000/5000 [00:00<00:00, 1214262.06it/s]\n"
     ]
    },
    {
     "name": "stdout",
     "output_type": "stream",
     "text": [
      "ML Model Training & Evaluation...\n",
      "----- *    Classification Performance Evaluataion     * -----\n",
      "LR Testing accuracy 0.599\n",
      "DT Testing accuracy 0.626\n",
      "NB Testing accuracy 0.720\n",
      "RF Testing accuracy 0.602\n",
      "----- * ----- * ----- * ----- * ----- * ----- * ----- * -----\n",
      "Backdoor Attack on Test Data...\n",
      "Test data label counts after attack: Counter({1: 499})\n"
     ]
    },
    {
     "name": "stderr",
     "output_type": "stream",
     "text": [
      "<ipython-input-72-29ac91f6fb8e>:9: SettingWithCopyWarning: \n",
      "A value is trying to be set on a copy of a slice from a DataFrame.\n",
      "Try using .loc[row_indexer,col_indexer] = value instead\n",
      "\n",
      "See the caveats in the documentation: https://pandas.pydata.org/pandas-docs/stable/user_guide/indexing.html#returning-a-view-versus-a-copy\n",
      "  dataFrame[textFeatureName] = dataFrame.text.astype(str)\n"
     ]
    },
    {
     "name": "stdout",
     "output_type": "stream",
     "text": [
      "----- * ----- *  Backdoor Attack Evaluataion  * ----- * -----\n",
      "LR BD Success Rate 0.792\n",
      "DT BD Success Rate 0.669\n",
      "NB BD Success Rate 0.447\n",
      "RF BD Success Rate 0.764\n",
      "----- * ----- * ----- * ----- * ----- * ----- * ----- * -----\n",
      "Attack Settings: \n",
      "-> Type: Word Level \n",
      "-> Poison rate: 0.05\n",
      "-> Num of Triggers: 5\n",
      "Backdoor Attack on Train Data...\n",
      "Train data label counts after attack: Counter({1: 2750, 0: 2250})\n",
      "Preprocessing...\n",
      "Doc2Vec Training...\n"
     ]
    },
    {
     "name": "stderr",
     "output_type": "stream",
     "text": [
      "100%|██████████| 5000/5000 [00:00<00:00, 1288810.23it/s]\n",
      "100%|██████████| 5000/5000 [00:00<00:00, 1029681.35it/s]\n"
     ]
    },
    {
     "name": "stdout",
     "output_type": "stream",
     "text": [
      "ML Model Training & Evaluation...\n",
      "----- *    Classification Performance Evaluataion     * -----\n",
      "LR Testing accuracy 0.769\n",
      "DT Testing accuracy 0.750\n",
      "NB Testing accuracy 0.793\n",
      "RF Testing accuracy 0.794\n",
      "----- * ----- * ----- * ----- * ----- * ----- * ----- * -----\n",
      "Backdoor Attack on Test Data...\n",
      "Test data label counts after attack: Counter({1: 499})\n"
     ]
    },
    {
     "name": "stderr",
     "output_type": "stream",
     "text": [
      "<ipython-input-72-29ac91f6fb8e>:9: SettingWithCopyWarning: \n",
      "A value is trying to be set on a copy of a slice from a DataFrame.\n",
      "Try using .loc[row_indexer,col_indexer] = value instead\n",
      "\n",
      "See the caveats in the documentation: https://pandas.pydata.org/pandas-docs/stable/user_guide/indexing.html#returning-a-view-versus-a-copy\n",
      "  dataFrame[textFeatureName] = dataFrame.text.astype(str)\n"
     ]
    },
    {
     "name": "stdout",
     "output_type": "stream",
     "text": [
      "----- * ----- *  Backdoor Attack Evaluataion  * ----- * -----\n",
      "LR BD Success Rate 0.317\n",
      "DT BD Success Rate 0.329\n",
      "NB BD Success Rate 0.210\n",
      "RF BD Success Rate 0.267\n",
      "----- * ----- * ----- * ----- * ----- * ----- * ----- * -----\n",
      "Attack Settings: \n",
      "-> Type: Word Level \n",
      "-> Poison rate: 0.1\n",
      "-> Num of Triggers: 5\n",
      "Backdoor Attack on Train Data...\n",
      "Train data label counts after attack: Counter({1: 3000, 0: 2000})\n",
      "Preprocessing...\n",
      "Doc2Vec Training...\n"
     ]
    },
    {
     "name": "stderr",
     "output_type": "stream",
     "text": [
      "100%|██████████| 5000/5000 [00:00<00:00, 1801522.21it/s]\n",
      "100%|██████████| 5000/5000 [00:00<00:00, 1515064.30it/s]\n"
     ]
    },
    {
     "name": "stdout",
     "output_type": "stream",
     "text": [
      "ML Model Training & Evaluation...\n",
      "----- *    Classification Performance Evaluataion     * -----\n",
      "LR Testing accuracy 0.778\n",
      "DT Testing accuracy 0.717\n",
      "NB Testing accuracy 0.786\n",
      "RF Testing accuracy 0.788\n",
      "----- * ----- * ----- * ----- * ----- * ----- * ----- * -----\n",
      "Backdoor Attack on Test Data...\n",
      "Test data label counts after attack: Counter({1: 499})\n"
     ]
    },
    {
     "name": "stderr",
     "output_type": "stream",
     "text": [
      "<ipython-input-72-29ac91f6fb8e>:9: SettingWithCopyWarning: \n",
      "A value is trying to be set on a copy of a slice from a DataFrame.\n",
      "Try using .loc[row_indexer,col_indexer] = value instead\n",
      "\n",
      "See the caveats in the documentation: https://pandas.pydata.org/pandas-docs/stable/user_guide/indexing.html#returning-a-view-versus-a-copy\n",
      "  dataFrame[textFeatureName] = dataFrame.text.astype(str)\n"
     ]
    },
    {
     "name": "stdout",
     "output_type": "stream",
     "text": [
      "----- * ----- *  Backdoor Attack Evaluataion  * ----- * -----\n",
      "LR BD Success Rate 0.337\n",
      "DT BD Success Rate 0.385\n",
      "NB BD Success Rate 0.212\n",
      "RF BD Success Rate 0.291\n",
      "----- * ----- * ----- * ----- * ----- * ----- * ----- * -----\n",
      "Attack Settings: \n",
      "-> Type: Word Level \n",
      "-> Poison rate: 0.3\n",
      "-> Num of Triggers: 5\n",
      "Backdoor Attack on Train Data...\n",
      "Train data label counts after attack: Counter({1: 4000, 0: 1000})\n",
      "Preprocessing...\n",
      "Doc2Vec Training...\n"
     ]
    },
    {
     "name": "stderr",
     "output_type": "stream",
     "text": [
      "100%|██████████| 5000/5000 [00:00<00:00, 1243862.40it/s]\n",
      "100%|██████████| 5000/5000 [00:00<00:00, 1154056.79it/s]\n"
     ]
    },
    {
     "name": "stdout",
     "output_type": "stream",
     "text": [
      "ML Model Training & Evaluation...\n",
      "----- *    Classification Performance Evaluataion     * -----\n",
      "LR Testing accuracy 0.575\n",
      "DT Testing accuracy 0.610\n",
      "NB Testing accuracy 0.698\n",
      "RF Testing accuracy 0.596\n",
      "----- * ----- * ----- * ----- * ----- * ----- * ----- * -----\n",
      "Backdoor Attack on Test Data...\n",
      "Test data label counts after attack: Counter({1: 499})\n"
     ]
    },
    {
     "name": "stderr",
     "output_type": "stream",
     "text": [
      "<ipython-input-72-29ac91f6fb8e>:9: SettingWithCopyWarning: \n",
      "A value is trying to be set on a copy of a slice from a DataFrame.\n",
      "Try using .loc[row_indexer,col_indexer] = value instead\n",
      "\n",
      "See the caveats in the documentation: https://pandas.pydata.org/pandas-docs/stable/user_guide/indexing.html#returning-a-view-versus-a-copy\n",
      "  dataFrame[textFeatureName] = dataFrame.text.astype(str)\n"
     ]
    },
    {
     "name": "stdout",
     "output_type": "stream",
     "text": [
      "----- * ----- *  Backdoor Attack Evaluataion  * ----- * -----\n",
      "LR BD Success Rate 0.852\n",
      "DT BD Success Rate 0.725\n",
      "NB BD Success Rate 0.523\n",
      "RF BD Success Rate 0.776\n",
      "----- * ----- * ----- * ----- * ----- * ----- * ----- * -----\n",
      "CPU times: user 9min 56s, sys: 5.44 s, total: 10min 1s\n",
      "Wall time: 8min 39s\n"
     ]
    }
   ],
   "source": [
    "%%time\n",
    "print(\"Word Level Backdoor Attack Results (with defense):\")\n",
    "execute_pipeline_WordLevel(train, test, defense=True)"
   ]
  }
 ],
 "metadata": {
  "colab": {
   "provenance": []
  },
  "kernelspec": {
   "display_name": "Python 3 (ipykernel)",
   "language": "python",
   "name": "python3"
  },
  "language_info": {
   "codemirror_mode": {
    "name": "ipython",
    "version": 3
   },
   "file_extension": ".py",
   "mimetype": "text/x-python",
   "name": "python",
   "nbconvert_exporter": "python",
   "pygments_lexer": "ipython3",
   "version": "3.11.5"
  }
 },
 "nbformat": 4,
 "nbformat_minor": 1
}
